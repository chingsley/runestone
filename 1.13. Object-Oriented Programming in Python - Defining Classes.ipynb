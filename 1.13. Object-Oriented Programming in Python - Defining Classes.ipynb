{
 "cells": [
  {
   "cell_type": "markdown",
   "metadata": {},
   "source": [
    "### Euclid's algorthm\n",
    "Euclid's algoritm is used to find the greatest common divisor of any two integers. Euclid’s Algorithm states that the greatest common divisor of two integers 𝑚 and 𝑛 is 𝑛 if 𝑛 divides 𝑚 evenly. However, if 𝑛 does not divide 𝑚 evenly, then the answer is the greatest common divisor of 𝑛 and the remainder of 𝑚 divided by 𝑛"
   ]
  },
  {
   "cell_type": "code",
   "execution_count": 1,
   "metadata": {},
   "outputs": [
    {
     "name": "stdout",
     "output_type": "stream",
     "text": [
      "10\n",
      "12\n"
     ]
    }
   ],
   "source": [
    "def calc_gcd(m, n):\n",
    "    while m%n != 0:\n",
    "        oldm = m\n",
    "        oldn = n\n",
    "        \n",
    "        m = oldn\n",
    "        n = oldm % oldn\n",
    "    return n\n",
    "\n",
    "print(calc_gcd(10, 20))\n",
    "print(calc_gcd(60, 36))"
   ]
  },
  {
   "cell_type": "markdown",
   "metadata": {},
   "source": [
    "### 1.13.1. A Fraction Calss"
   ]
  },
  {
   "cell_type": "code",
   "execution_count": 7,
   "metadata": {},
   "outputs": [],
   "source": [
    "def calc_gcd(m, n):\n",
    "    while m%n != 0:\n",
    "        oldm = m\n",
    "        oldn = n\n",
    "        \n",
    "        m = oldn\n",
    "        n = oldm % oldn\n",
    "    return n\n",
    "\n",
    "class Fraction:\n",
    "    \n",
    "    def __init__(self, top, bottom):\n",
    "        self.num = top\n",
    "        self.den = bottom\n",
    "        \n",
    "    def __str__(self):\n",
    "        return str(self.num) + \"/\" + str(self.den)\n",
    "    \n",
    "    \n",
    "    def __add__(self, other_fraction):\n",
    "        new_num = self.num*other_fraction.den + self.den*other_fraction.num\n",
    "        new_den = self.den * other_fraction.den\n",
    "        gcd = calc_gcd(new_num, new_den)\n",
    "        return Fraction(new_num//gcd, new_den//gcd)\n",
    "    \n",
    "    def __sub__(self, other_fraction):\n",
    "        new_num = self.num*other_fraction.den - self.den*other_fraction.num\n",
    "        new_den = self.den * other_fraction.den\n",
    "        gcd = calc_gcd(new_num, new_den)\n",
    "        return Fraction(new_num//gcd, new_den//gcd)\n",
    "   \n",
    "    def __mul__(self, other):\n",
    "        new_num = self.num * other.num\n",
    "        new_den = self.den * other.den\n",
    "        gcd = calc_gcd(new_num, new_den)\n",
    "        return Fraction(new_num//gcd, new_den//gcd)\n",
    "    \n",
    "    def __truediv__(self, other):\n",
    "        new_num = self.num * other.den\n",
    "        new_den = self.den * other.num\n",
    "        gcd = calc_gcd(new_num, new_den)\n",
    "        return Fraction(new_num//gcd, new_den//gcd)\n",
    "    \n",
    "    def __eq__(self, other):\n",
    "        firstnum = self.num * other.den\n",
    "        secondnum = self.den * other.num\n",
    "        return firstnum == secondnum\n",
    "    \n",
    "    def __gt__(self, other):\n",
    "        firstnum = self.num * other.den\n",
    "        secondnum = self.den * other.num\n",
    "        return firstnum > secondnum\n",
    "        \n",
    "    def __lt__(self, other):\n",
    "        firstnum = self.num * other.den\n",
    "        secondnum = self.den * other.num\n",
    "        return firstnum < secondnum"
   ]
  },
  {
   "cell_type": "code",
   "execution_count": 8,
   "metadata": {},
   "outputs": [
    {
     "name": "stdout",
     "output_type": "stream",
     "text": [
      "30/36\n"
     ]
    },
    {
     "data": {
      "text/plain": [
       "<__main__.Fraction at 0x10c423b50>"
      ]
     },
     "execution_count": 8,
     "metadata": {},
     "output_type": "execute_result"
    }
   ],
   "source": [
    "fr = Fraction(30, 36)\n",
    "print(fr)\n",
    "fr"
   ]
  },
  {
   "cell_type": "code",
   "execution_count": 9,
   "metadata": {},
   "outputs": [
    {
     "name": "stdout",
     "output_type": "stream",
     "text": [
      "3/4\n",
      "-1/4\n",
      "1/4\n",
      "True\n",
      "False\n",
      "True\n",
      "1/8\n",
      "1/2\n"
     ]
    }
   ],
   "source": [
    "f1 = Fraction(1, 4)\n",
    "f2 = Fraction(1, 2)\n",
    "f3 = f1 + f2\n",
    "print(f3)\n",
    "print(f1 - f2)\n",
    "print(f2 - f1)\n",
    "print(f2 > f1)\n",
    "print(f2 < f1)\n",
    "print(f2 == Fraction(2, 4))\n",
    "print(f1 * f2)\n",
    "print(f1 / f2)"
   ]
  },
  {
   "cell_type": "code",
   "execution_count": 10,
   "metadata": {},
   "outputs": [
    {
     "data": {
      "text/plain": [
       "True"
      ]
     },
     "execution_count": 10,
     "metadata": {},
     "output_type": "execute_result"
    }
   ],
   "source": [
    "f1 = Fraction(1, 4)\n",
    "f2 = Fraction(2, 8)\n",
    "f1 == f2"
   ]
  },
  {
   "cell_type": "markdown",
   "metadata": {},
   "source": [
    "### The Logic Ciruit"
   ]
  },
  {
   "cell_type": "code",
   "execution_count": 9,
   "metadata": {},
   "outputs": [],
   "source": [
    "class LogicGate:\n",
    "    \n",
    "    def __init__(self, n):\n",
    "        self.label = n\n",
    "        self.output = None\n",
    "        \n",
    "    def getLabel(self):\n",
    "        return self.label\n",
    "    \n",
    "    def getOutput(self):\n",
    "        self.output = self.performGateLogic()\n",
    "        return self.output\n",
    "\n",
    "class BinaryGate(LogicGate):\n",
    "    \n",
    "    def __init__(self, n):\n",
    "        LogicGate.__init__(self, n)\n",
    "        self.pinA = None\n",
    "        self.pinB = None\n",
    "        \n",
    "    def setInputPin(self, connector):\n",
    "        if self.pinA == None:\n",
    "            self.pinA = connector\n",
    "        else:\n",
    "            if self.pinB == None:\n",
    "                self.pinB = connector\n",
    "            else:\n",
    "                raise RuntimeError(f'Error: No Empty pins in gate {self.gateLabel()}')\n",
    "    \n",
    "    def getPinA(self):\n",
    "        if self.pinA == None:\n",
    "            return int(input(\"Enter Pin A input for gate \"+self.getLabel()+\"-->\"))\n",
    "        else:\n",
    "            return self.pinA.getFromGate().getOutput()\n",
    "    \n",
    "    def getPinB(self):\n",
    "        if self.pinB == None:\n",
    "            return int(input(\"Enter Pin B input for gate \"+self.getLabel()+\"-->\"))\n",
    "        else:\n",
    "            return self.pinB.getFromGate().getOutput()\n",
    "    \n",
    "class UnaryGate(LogicGate):\n",
    "    \n",
    "    def __init__(self, n):\n",
    "        LogicGate.__init__(self, n)\n",
    "        self.pin = None\n",
    "        \n",
    "    def setInputPin(self, connector):\n",
    "        if self.pin == None:\n",
    "            self.pin = connector\n",
    "        else:\n",
    "            raise RuntimeError(f'Error: No Empty pins in gate {self.gateLabel()}')\n",
    "                \n",
    "    \n",
    "        \n",
    "    def getPin(self):\n",
    "        if self.pin == None:\n",
    "            return int(input(\"Enter Pin input for gate \"+self.getLabel()+\"-->\"))\n",
    "        else:\n",
    "            return self.pin.getFromGate().getOutput()\n",
    "\n",
    "\n",
    "class AndGate(BinaryGate):\n",
    "    def __init__(self, n):\n",
    "        super(AndGate, self).__init__(n)\n",
    "        \n",
    "    def performGateLogic(self):\n",
    "        a = self.getPinA()\n",
    "        b = self.getPinB()\n",
    "        if a == 1 and b == 1:\n",
    "            return 1\n",
    "        else:\n",
    "            return 0\n",
    "\n",
    "class NandGate(AndGate):\n",
    "        \n",
    "    def performGateLogic(self):\n",
    "        if super().performGateLogic() == 1:\n",
    "            return 0\n",
    "        else:\n",
    "            return 1\n",
    "\n",
    "class OrGate(BinaryGate):\n",
    "    def __init__(self, n):\n",
    "        super(OrGate, self).__init__(n)\n",
    "        \n",
    "    def performGateLogic(self):\n",
    "        a = self.getPinA()\n",
    "        b = self.getPinB()\n",
    "        if a == 0 and b == 0:\n",
    "            return 0\n",
    "        else:\n",
    "            return 1\n",
    "\n",
    "class NorGate(OrGate):\n",
    "        \n",
    "    def performGateLogic(self):\n",
    "        if super().performGateLogic() == 1:\n",
    "            return 0\n",
    "        else:\n",
    "            return 1\n",
    "\n",
    "        \n",
    "class NotGate(UnaryGate):\n",
    "    def __init__(self, n):\n",
    "        super(NotGate, self).__init__(n)\n",
    "        \n",
    "    def performGateLogic(self):\n",
    "        a = self.getPin()\n",
    "        if a == 0:\n",
    "            return 1\n",
    "        elif a == 1:\n",
    "            return 0\n",
    "        else:\n",
    "            raise RuntimeError('invalid input. Only 0 or 1 are allowed')\n",
    "        \n",
    "    \n",
    "class Connector():\n",
    "    def __init__(self, fromGate, toGate):\n",
    "        self.fromGate = fromGate\n",
    "        self.toGate = toGate\n",
    "        toGate.setInputPin(self)\n",
    "    \n",
    "    def getFromGate(self):\n",
    "        return self.fromGate\n",
    "    \n",
    "    def getToGate(self):\n",
    "        return self.toGate"
   ]
  },
  {
   "cell_type": "code",
   "execution_count": 20,
   "metadata": {},
   "outputs": [
    {
     "name": "stdout",
     "output_type": "stream",
     "text": [
      "Enter Pin A input for gate G2-->1\n",
      "Enter Pin B input for gate G2-->1\n",
      "0\n"
     ]
    }
   ],
   "source": [
    "# g1 = NandGate(\"G1\")\n",
    "# result1 = g1.getOutput()\n",
    "# print(result1)\n",
    "\n",
    "g2 = NorGate('G2')\n",
    "result2 = g2.getOutput()\n",
    "print(result2)\n",
    "\n",
    "# g3 = NotGate('G3')\n",
    "# print(g3.getOutput())"
   ]
  },
  {
   "cell_type": "code",
   "execution_count": 41,
   "metadata": {},
   "outputs": [
    {
     "name": "stdout",
     "output_type": "stream",
     "text": [
      "Enter Pin A input for gate G1-->1\n",
      "Enter Pin B input for gate G1-->1\n",
      "1\n"
     ]
    }
   ],
   "source": [
    "g1 = AndGate(\"G1\")\n",
    "g2 = OrGate('G2')\n",
    "g3 = NotGate('G3')\n",
    "\n",
    "c = Connector(g1, g2)\n",
    "print(c.fromGate.getOutput())"
   ]
  },
  {
   "cell_type": "code",
   "execution_count": 6,
   "metadata": {},
   "outputs": [
    {
     "name": "stdout",
     "output_type": "stream",
     "text": [
      "Enter Pin A input for gate G1-->0\n",
      "Enter Pin B input for gate G1-->1\n",
      "Enter Pin A input for gate G2-->1\n",
      "Enter Pin B input for gate G2-->1\n"
     ]
    },
    {
     "data": {
      "text/plain": [
       "0"
      ]
     },
     "execution_count": 6,
     "metadata": {},
     "output_type": "execute_result"
    }
   ],
   "source": [
    "# g1 = AndGate(\"G1\")\n",
    "g2 = AndGate(\"G2\")\n",
    "g3 = OrGate(\"G3\")\n",
    "g4 = NotGate(\"G4\")\n",
    "c1 = Connector(g1,g3)\n",
    "c2 = Connector(g2,g3)\n",
    "c3 = Connector(g3,g4)\n",
    "# print(g3.getOutput())\n",
    "# print(g4.getPin())\n",
    "g5 = NotGate(\"G5\")\n",
    "g6 = NotGate(\"G6\")\n",
    "c4 = Connector(g5, g6)\n",
    "# g6.getOutput()\n",
    "g4.getOutput()"
   ]
  },
  {
   "cell_type": "markdown",
   "metadata": {},
   "source": [
    "### the MSDie class"
   ]
  },
  {
   "cell_type": "code",
   "execution_count": 9,
   "metadata": {},
   "outputs": [
    {
     "name": "stdout",
     "output_type": "stream",
     "text": [
      "2 2\n",
      "2 2\n",
      "6 6\n",
      "4 4\n",
      "4 4\n",
      "1\n",
      "[MSDie(6) : 1, MSDie(20) : 11]\n"
     ]
    }
   ],
   "source": [
    "import random\n",
    "\n",
    "class MSDie:\n",
    "    \"\"\"\n",
    "    Mulit-sided die\n",
    "    \n",
    "    Instance Variables:\n",
    "        current_value\n",
    "        num_sides\n",
    "    \"\"\"\n",
    "    def __init__(self, num_sides):\n",
    "        self.num_sides = num_sides\n",
    "        self.current_value = self.roll()\n",
    "    \n",
    "    def roll(self):\n",
    "        self.current_value = random.randrange(1, self.num_sides+1)\n",
    "        return self.current_value\n",
    "    \n",
    "    def __str__(self):\n",
    "        return str(self.current_value)\n",
    "    \n",
    "    def __repr__(self):\n",
    "        return \"MSDie({}) : {}\".format(self.num_sides, self.current_value)\n",
    "\n",
    "    \n",
    "die = MSDie(6)\n",
    "for i in range(5):\n",
    "    print(die, die.current_value)\n",
    "    die.roll()\n",
    "\n",
    "print(MSDie(6))\n",
    "die_list = [MSDie(6), MSDie(20)]\n",
    "print(die_list)\n"
   ]
  }
 ],
 "metadata": {
  "kernelspec": {
   "display_name": "Python 3",
   "language": "python",
   "name": "python3"
  },
  "language_info": {
   "codemirror_mode": {
    "name": "ipython",
    "version": 3
   },
   "file_extension": ".py",
   "mimetype": "text/x-python",
   "name": "python",
   "nbconvert_exporter": "python",
   "pygments_lexer": "ipython3",
   "version": "3.7.4"
  }
 },
 "nbformat": 4,
 "nbformat_minor": 2
}
