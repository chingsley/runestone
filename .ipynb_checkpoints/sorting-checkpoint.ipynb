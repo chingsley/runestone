{
 "cells": [
  {
   "cell_type": "code",
   "execution_count": 1,
   "metadata": {},
   "outputs": [
    {
     "name": "stdout",
     "output_type": "stream",
     "text": [
      "[54, 26, 93, 17, 77, 31, 44, 55, 20]\n",
      "[17, 20, 26, 31, 44, 54, 55, 77, 93]\n"
     ]
    }
   ],
   "source": [
    "def bubble_sort(input_arr):\n",
    "    arr = [n for n in input_arr]\n",
    "    for passnum in range(len(arr)-1, 0, -1):\n",
    "        for i in range(passnum):\n",
    "            if arr[i] > arr[i+1]:\n",
    "                arr[i],arr[i+1] = arr[i+1],arr[i]\n",
    "    return arr\n",
    "\n",
    "test_arr = [54, 26, 93, 17, 77, 31, 44, 55, 20]\n",
    "result = bubble_sort(test_arr)\n",
    "\n",
    "print(test_arr)\n",
    "print(result)"
   ]
  },
  {
   "cell_type": "markdown",
   "metadata": {},
   "source": [
    "### Implementing Short Bubble"
   ]
  },
  {
   "cell_type": "code",
   "execution_count": 2,
   "metadata": {},
   "outputs": [],
   "source": [
    "def short_bubble_sort(input_arr):\n",
    "    arr = [n for n in input_arr]\n",
    "    passnum = len(arr) - 1\n",
    "    exchange = True\n",
    "    no_of_passes = 0\n",
    "    while passnum > 0 and exchange:\n",
    "        exchange = False\n",
    "        no_of_passes += 1\n",
    "        for i in range(passnum):\n",
    "            if arr[i] > arr[i+1]:\n",
    "                arr[i], arr[i+1] = arr[i+1], arr[i]\n",
    "                exchange = True\n",
    "        passnum = passnum - 1\n",
    "    return (arr, no_of_passes)"
   ]
  },
  {
   "cell_type": "code",
   "execution_count": 3,
   "metadata": {},
   "outputs": [
    {
     "name": "stdout",
     "output_type": "stream",
     "text": [
      "[20, 17, 26, 31, 44, 54, 55, 77, 93]\n",
      "([17, 20, 26, 31, 44, 54, 55, 77, 93], 2)\n"
     ]
    }
   ],
   "source": [
    "test_arr = [20, 17, 26, 31, 44, 54, 55, 77, 93]\n",
    "result = short_bubble_sort(test_arr)\n",
    "\n",
    "print(test_arr)\n",
    "print(result)"
   ]
  },
  {
   "cell_type": "markdown",
   "metadata": {},
   "source": [
    "### Selection Sort"
   ]
  },
  {
   "cell_type": "code",
   "execution_count": 4,
   "metadata": {},
   "outputs": [],
   "source": [
    "def selection_sort_2(alist):\n",
    "    noOfPasses = len(alist) - 1\n",
    "    for passNo in range(noOfPasses, 0, -1):\n",
    "        posOfMax = 0\n",
    "        for pos in range(1, passNo+1):\n",
    "            if(alist[pos] > alist[posOfMax]):\n",
    "                posOfMax = pos\n",
    "\n",
    "        temp = alist[posOfMax]\n",
    "        alist[posOfMax] = alist[passNo]\n",
    "        alist[passNo] = temp\n",
    "    return alist"
   ]
  },
  {
   "cell_type": "code",
   "execution_count": 5,
   "metadata": {},
   "outputs": [],
   "source": [
    "def selection_sort(alist):\n",
    "    noOfPasses = len(alist) - 1\n",
    "    for passNo in range(noOfPasses, 0, -1):\n",
    "        posOfMax = 0\n",
    "        for pos in range(1, passNo+1):\n",
    "            if(alist[pos] > alist[posOfMax]):\n",
    "                posOfMax = pos\n",
    "\n",
    "        alist[posOfMax], alist[passNo] = alist[passNo], alist[posOfMax]\n",
    "    return alist\n",
    "    "
   ]
  },
  {
   "cell_type": "code",
   "execution_count": 6,
   "metadata": {},
   "outputs": [
    {
     "data": {
      "text/plain": [
       "[17, 20, 26, 31, 44, 54, 55, 77, 93]"
      ]
     },
     "execution_count": 6,
     "metadata": {},
     "output_type": "execute_result"
    }
   ],
   "source": [
    "selection_sort([54,26,93,17,77,31,44,55,20])"
   ]
  },
  {
   "cell_type": "markdown",
   "metadata": {},
   "source": [
    "### Insertion Sort"
   ]
  },
  {
   "cell_type": "code",
   "execution_count": 7,
   "metadata": {},
   "outputs": [
    {
     "name": "stdout",
     "output_type": "stream",
     "text": [
      "[17, 20, 26, 31, 44, 54, 55, 77, 93]\n"
     ]
    }
   ],
   "source": [
    "def insertionSort(alist):\n",
    "   for index in range(1,len(alist)):\n",
    "\n",
    "     currentvalue = alist[index]\n",
    "     position = index\n",
    "\n",
    "     while position>0 and alist[position-1]>currentvalue:\n",
    "         alist[position]=alist[position-1]\n",
    "         position = position-1\n",
    "\n",
    "     alist[position]=currentvalue\n",
    "\n",
    "alist = [54,26,93,17,77,31,44,55,20]\n",
    "insertionSort(alist)\n",
    "print(alist)"
   ]
  },
  {
   "cell_type": "code",
   "execution_count": 8,
   "metadata": {},
   "outputs": [],
   "source": [
    "def insertion_sort(alist):\n",
    "    for index in range(1, len(alist)):\n",
    "        current_value = alist[index]\n",
    "        pos = index\n",
    "        \n",
    "        while pos > 0 and alist[pos-1] > current_value:\n",
    "            alist[pos] = alist[pos-1]\n",
    "            pos = pos - 1\n",
    "            \n",
    "        alist[pos] = current_value\n",
    "            \n",
    "        \n",
    "        "
   ]
  },
  {
   "cell_type": "code",
   "execution_count": 9,
   "metadata": {},
   "outputs": [
    {
     "name": "stdout",
     "output_type": "stream",
     "text": [
      "[17, 20, 26, 31, 44, 54, 55, 77, 93]\n"
     ]
    }
   ],
   "source": [
    "alist = [54,26,93,17,77,31,44,55,20]\n",
    "insertion_sort(alist)\n",
    "print(alist)"
   ]
  },
  {
   "cell_type": "markdown",
   "metadata": {},
   "source": [
    "### Shell Sort"
   ]
  },
  {
   "cell_type": "code",
   "execution_count": 1,
   "metadata": {},
   "outputs": [
    {
     "name": "stdout",
     "output_type": "stream",
     "text": [
      "After increments of size 4 The list is [20, 26, 44, 17, 54, 31, 93, 55, 77]\n",
      "After increments of size 2 The list is [20, 17, 44, 26, 54, 31, 77, 55, 93]\n",
      "After increments of size 1 The list is [17, 20, 26, 31, 44, 54, 55, 77, 93]\n",
      "[17, 20, 26, 31, 44, 54, 55, 77, 93]\n"
     ]
    }
   ],
   "source": [
    "def shellSort(alist):\n",
    "    sublistcount = len(alist)//2\n",
    "    while sublistcount > 0:\n",
    "\n",
    "      for startposition in range(sublistcount):\n",
    "        gapInsertionSort(alist,startposition,sublistcount)\n",
    "\n",
    "      print(\"After increments of size\",sublistcount,\n",
    "                                   \"The list is\",alist)\n",
    "\n",
    "      sublistcount = sublistcount // 2\n",
    "\n",
    "def gapInsertionSort(alist,start,gap):\n",
    "    for i in range(start+gap,len(alist),gap):\n",
    "\n",
    "        currentvalue = alist[i]\n",
    "        position = i\n",
    "\n",
    "        while position>=gap and alist[position-gap]>currentvalue:\n",
    "            alist[position]=alist[position-gap]\n",
    "            position = position-gap\n",
    "\n",
    "        alist[position]=currentvalue\n",
    "\n",
    "alist = [54,26,93,17,77,31,44,55,20]\n",
    "shellSort(alist)\n",
    "print(alist)"
   ]
  },
  {
   "cell_type": "code",
   "execution_count": 9,
   "metadata": {},
   "outputs": [
    {
     "name": "stdout",
     "output_type": "stream",
     "text": [
      "4\n",
      "\t [54, 26, 93, 17, 77, 31, 44, 55, 20] 0 4\n",
      "\t [54, 26, 93, 17, 77, 31, 44, 55, 20] 1 4\n",
      "\t [54, 26, 93, 17, 77, 31, 44, 55, 20] 2 4\n",
      "\t [54, 26, 93, 17, 77, 31, 44, 55, 20] 3 4\n",
      "2\n",
      "\t [54, 26, 93, 17, 77, 31, 44, 55, 20] 0 2\n",
      "\t [54, 26, 93, 17, 77, 31, 44, 55, 20] 1 2\n",
      "1\n",
      "\t [54, 26, 93, 17, 77, 31, 44, 55, 20] 0 1\n"
     ]
    }
   ],
   "source": [
    "def shellSort(alist):\n",
    "    sublistcount = len(alist)//2\n",
    "    while sublistcount > 0:\n",
    "      print(sublistcount)\n",
    "#         sublistcount = sublistcount // 2\n",
    "      for startposition in range(sublistcount):\n",
    "        print('\\t', alist, startposition, sublistcount)\n",
    "        gapInsertionSort(alist,startposition,sublistcount)\n",
    "\n",
    "#       print(\"After increments of size\",sublistcount,\n",
    "#                                    \"The list is\",alist)\n",
    "\n",
    "      sublistcount = sublistcount // 2\n",
    "\n",
    "def gapInsertionSort(alist,start,gap):\n",
    "    for i in range(start+gap,len(alist),gap):\n",
    "\n",
    "        currentvalue = alist[i]\n",
    "        position = i\n",
    "\n",
    "        while position>=gap and alist[position-gap]>currentvalue:\n",
    "            alist[position]=alist[position-gap]\n",
    "            position = position-gap\n",
    "\n",
    "        alist[position]=currentvalue\n",
    "\n",
    "alist = [54,26,93,17,77,31,44,55,20]\n",
    "shellSort(alist)\n",
    "# print(alist)"
   ]
  }
 ],
 "metadata": {
  "kernelspec": {
   "display_name": "Python 3",
   "language": "python",
   "name": "python3"
  },
  "language_info": {
   "codemirror_mode": {
    "name": "ipython",
    "version": 3
   },
   "file_extension": ".py",
   "mimetype": "text/x-python",
   "name": "python",
   "nbconvert_exporter": "python",
   "pygments_lexer": "ipython3",
   "version": "3.7.4"
  }
 },
 "nbformat": 4,
 "nbformat_minor": 2
}
