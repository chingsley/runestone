{
 "cells": [
  {
   "cell_type": "markdown",
   "metadata": {},
   "source": [
    "## Implement list sum using Recursion"
   ]
  },
  {
   "cell_type": "code",
   "execution_count": 7,
   "metadata": {},
   "outputs": [],
   "source": [
    "def listSum(numList):\n",
    "    if len(numList) == 1:\n",
    "        return numList[0]\n",
    "    else:\n",
    "        return numList[0] + listSum(numList[1:])"
   ]
  },
  {
   "cell_type": "code",
   "execution_count": 10,
   "metadata": {},
   "outputs": [
    {
     "data": {
      "text/plain": [
       "25"
      ]
     },
     "execution_count": 10,
     "metadata": {},
     "output_type": "execute_result"
    }
   ],
   "source": [
    "listSum([1, 3, 5, 7, 9])"
   ]
  },
  {
   "cell_type": "markdown",
   "metadata": {},
   "source": [
    "## Converting an Integer to a String in Any Base"
   ]
  },
  {
   "cell_type": "code",
   "execution_count": 37,
   "metadata": {},
   "outputs": [],
   "source": [
    "def getConvString(base):\n",
    "    convDict = {\n",
    "        2: \"01\",\n",
    "        8: \"01234567\",\n",
    "        10: \"0123456789\",\n",
    "        16: \"0123456789ABCDEF\"\n",
    "    }\n",
    "    \n",
    "    try:\n",
    "        return convDict[base]\n",
    "\n",
    "    except KeyError:\n",
    "        print('Invalid base. Please enter one of base 2, 8, 10 or 16')\n",
    "\n",
    "    else:\n",
    "        print('Encountered an error')\n",
    "  \n",
    "    "
   ]
  },
  {
   "cell_type": "code",
   "execution_count": 42,
   "metadata": {},
   "outputs": [
    {
     "data": {
      "text/plain": [
       "'01234567'"
      ]
     },
     "execution_count": 42,
     "metadata": {},
     "output_type": "execute_result"
    }
   ],
   "source": [
    "getConvString(8)"
   ]
  },
  {
   "cell_type": "code",
   "execution_count": 49,
   "metadata": {},
   "outputs": [],
   "source": [
    "def conv(num, base):\n",
    "    convString = getConvString(base)\n",
    "    if num < base:\n",
    "        return convString[num]\n",
    "    else:\n",
    "        quotient = num // base\n",
    "        remainder = num % base\n",
    "        return conv(quotient, base) + convString[remainder]"
   ]
  },
  {
   "cell_type": "code",
   "execution_count": 55,
   "metadata": {},
   "outputs": [
    {
     "data": {
      "text/plain": [
       "'789676878778'"
      ]
     },
     "execution_count": 55,
     "metadata": {},
     "output_type": "execute_result"
    }
   ],
   "source": [
    "conv(789676878778, 10)"
   ]
  },
  {
   "cell_type": "markdown",
   "metadata": {},
   "source": [
    "## Exercise 1\n",
    "Write a function that takes a string as a parameter and returns a new string that is the reverse of the old string."
   ]
  },
  {
   "cell_type": "code",
   "execution_count": 59,
   "metadata": {},
   "outputs": [
    {
     "data": {
      "text/plain": [
       "'olleh'"
      ]
     },
     "execution_count": 59,
     "metadata": {},
     "output_type": "execute_result"
    }
   ],
   "source": [
    "# from test import testEqual\n",
    "def reverse(s):\n",
    "    i = len(s)\n",
    "    if len(s) <= 1:\n",
    "        return s\n",
    "    else:\n",
    "        return s[len(s) - 1] + reverse(s[:len(s)-1])\n",
    "\n",
    "# testEqual(reverse(\"hello\"),\"olleh\")\n",
    "# testEqual(reverse(\"l\"),\"l\")\n",
    "# testEqual(reverse(\"follow\"),\"wollof\")\n",
    "# testEqual(reverse(\"\"),\"\")\n",
    "reverse(\"hello\")"
   ]
  },
  {
   "cell_type": "markdown",
   "metadata": {},
   "source": [
    "## Exercise 2\n",
    "Write a function that takes a string as a parameter and returns True if the string is a palindrome, False otherwise. Remember that a string is a palindrome if it is spelled the same both forward and backward. For example: radar is a palindrome. for bonus points palindromes can also be phrases, but you need to remove the spaces and punctuation before checking. for example: madam i’m adam is a palindrome. Other fun palindromes include:\n",
    "\n",
    "* kayak\n",
    "\n",
    "* aibohphobia -- (means 'an irrational fear of palindromes')\n",
    "\n",
    "* ailihphilia -- (the antonym for aibohphobia)\n",
    "\n",
    "* Live not on evil\n",
    "\n",
    "* Reviled did I live, said I, as evil I did deliver\n",
    "\n",
    "* Go hang a salami; I’m a lasagna hog.\n",
    "\n",
    "* Able was I ere I saw Elba\n",
    "\n",
    "* Kanakanak – a town in Alaska\n",
    "\n",
    "* Wassamassaw – a town in South Dakota"
   ]
  }
 ],
 "metadata": {
  "kernelspec": {
   "display_name": "Python 3",
   "language": "python",
   "name": "python3"
  },
  "language_info": {
   "codemirror_mode": {
    "name": "ipython",
    "version": 3
   },
   "file_extension": ".py",
   "mimetype": "text/x-python",
   "name": "python",
   "nbconvert_exporter": "python",
   "pygments_lexer": "ipython3",
   "version": "3.7.4"
  }
 },
 "nbformat": 4,
 "nbformat_minor": 2
}
