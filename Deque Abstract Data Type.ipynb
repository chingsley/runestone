{
 "cells": [
  {
   "cell_type": "markdown",
   "metadata": {},
   "source": [
    "## Implementing a Deque in Python\n",
    "The Python list will provides a very nice set of methods upon which to build the details of the deque. Our implementation will assume that the rear of the deque is at position 0 in the list."
   ]
  },
  {
   "cell_type": "code",
   "execution_count": 38,
   "metadata": {},
   "outputs": [],
   "source": [
    "class Deque:\n",
    "    def __init__(self):\n",
    "        self.items = []\n",
    "        \n",
    "    def isEmpty(self):\n",
    "        return len(self.items) == 0\n",
    "    \n",
    "    def size(self):\n",
    "        return len(self.items)\n",
    "    \n",
    "    def addFront(self, item):\n",
    "        self.items.append(item)\n",
    "        \n",
    "    def addRear(self, item):\n",
    "        self.items = [item] + self.items\n",
    "        #self.items.insert(0, item)\n",
    "        \n",
    "    def removeFront(self):\n",
    "        return self.items.pop()\n",
    "    \n",
    "    def removeRear(self):\n",
    "        return self.items.pop(0)\n",
    "    \n",
    "    def __repr__(self):\n",
    "        return f\"[{', '.join([str(n) for n in self.items])}]\""
   ]
  },
  {
   "cell_type": "code",
   "execution_count": 40,
   "metadata": {},
   "outputs": [
    {
     "name": "stdout",
     "output_type": "stream",
     "text": [
      "d =  [True, 4, King]\n",
      "d.removeFront() =  King\n",
      "d =  [True, 4]\n",
      "d.removeRear() =  True\n",
      "d =  [4]\n"
     ]
    }
   ],
   "source": [
    "d = Deque()\n",
    "d.addFront(4)\n",
    "d.addFront('King')\n",
    "d.addRear(True)\n",
    "print('d = ', d)\n",
    "print('d.removeFront() = ', d.removeFront())\n",
    "print('d = ', d)\n",
    "print('d.removeRear() = ', d.removeRear())\n",
    "print('d = ', d)"
   ]
  }
 ],
 "metadata": {
  "kernelspec": {
   "display_name": "Python 3",
   "language": "python",
   "name": "python3"
  },
  "language_info": {
   "codemirror_mode": {
    "name": "ipython",
    "version": 3
   },
   "file_extension": ".py",
   "mimetype": "text/x-python",
   "name": "python",
   "nbconvert_exporter": "python",
   "pygments_lexer": "ipython3",
   "version": "3.7.4"
  }
 },
 "nbformat": 4,
 "nbformat_minor": 2
}
