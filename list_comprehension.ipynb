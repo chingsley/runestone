{
 "cells": [
  {
   "cell_type": "markdown",
   "metadata": {},
   "source": [
    "### generating list of letters from words\n",
    "\n",
    "Using iteration structure to process each character of a string. The following code fragment iterates over a list of strings and for each string processes each character by appending it to a list. The result is a list of all the letters in all of the words."
   ]
  },
  {
   "cell_type": "code",
   "execution_count": 3,
   "metadata": {},
   "outputs": [
    {
     "name": "stdout",
     "output_type": "stream",
     "text": [
      "['c', 'a', 't', 'd', 'o', 'g', 'r', 'a', 'b', 'b', 'i', 't']\n"
     ]
    }
   ],
   "source": [
    "words = ['cat', 'dog', 'rabbit']\n",
    "letters = []\n",
    "for word in words:\n",
    "    for letter in word:\n",
    "        letters.append(letter)\n",
    "\n",
    "print(letters)"
   ]
  },
  {
   "cell_type": "markdown",
   "metadata": {},
   "source": [
    " ### generating unique list (set)\n",
    " \n",
    " Next, we'll modify the code from Activecode 8 so that the final list only contains a single copy of each letter."
   ]
  },
  {
   "cell_type": "code",
   "execution_count": 5,
   "metadata": {},
   "outputs": [
    {
     "name": "stdout",
     "output_type": "stream",
     "text": [
      "['c', 'a', 't', 'd', 'o', 'g', 'r', 'b', 'i']\n"
     ]
    }
   ],
   "source": [
    "words = ['cat', 'dog', 'rabbit']\n",
    "letters = []\n",
    "for word in words:\n",
    "    for letter in word:\n",
    "        if not letter in letters:\n",
    "            letters.append(letter)\n",
    "            \n",
    "print(letters)"
   ]
  },
  {
   "cell_type": "markdown",
   "metadata": {},
   "source": [
    "### generating the unique list with list comprehension"
   ]
  },
  {
   "cell_type": "code",
   "execution_count": 14,
   "metadata": {},
   "outputs": [
    {
     "name": "stdout",
     "output_type": "stream",
     "text": [
      "['cat', 'dog', 'rabbit']\n",
      "['c', 'a', 't', 'd', 'o', 'g', 'r', 'a', 'b', 'b', 'i', 't']\n",
      "['c', 'a', 't', 'd', 'o', 'g', 'r', 'a', 'b', 'b', 'i', 't']\n",
      "{'d', 't', 'o', 'a', 'b', 'g', 'i', 'r', 'c'}\n",
      "['d', 't', 'o', 'a', 'b', 'g', 'i', 'r', 'c']\n"
     ]
    }
   ],
   "source": [
    "words = ['cat', 'dog', 'rabbit']\n",
    "print([word for word in words])\n",
    "\n",
    "print([ch for ch in \"\".join(words)])\n",
    "\n",
    "letters = [word[i] for word in words for i in range(len(word))]\n",
    "print(letters)\n",
    "\n",
    "print(set(letters))\n",
    "print(list(set(letters)))"
   ]
  }
 ],
 "metadata": {
  "kernelspec": {
   "display_name": "Python 3",
   "language": "python",
   "name": "python3"
  },
  "language_info": {
   "codemirror_mode": {
    "name": "ipython",
    "version": 3
   },
   "file_extension": ".py",
   "mimetype": "text/x-python",
   "name": "python",
   "nbconvert_exporter": "python",
   "pygments_lexer": "ipython3",
   "version": "3.7.4"
  }
 },
 "nbformat": 4,
 "nbformat_minor": 2
}
