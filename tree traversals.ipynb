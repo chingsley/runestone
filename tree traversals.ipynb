{
 "cells": [
  {
   "cell_type": "markdown",
   "metadata": {},
   "source": [
    "### Preorder Tree Traversal method"
   ]
  },
  {
   "cell_type": "markdown",
   "metadata": {},
   "source": [
    "#### External method\n",
    "preorder traversal implemented as an external function that takes a binary tree as a paramete"
   ]
  },
  {
   "cell_type": "code",
   "execution_count": 2,
   "metadata": {},
   "outputs": [],
   "source": [
    "def preorder(tree):\n",
    "    if tree:\n",
    "        print(tree.getRootVal())\n",
    "        preorder(tree.getLeftChild())\n",
    "        preorder(tree.getRightChild())"
   ]
  },
  {
   "cell_type": "markdown",
   "metadata": {},
   "source": [
    " #### Internal method\n",
    " preorder tree traversal implemented as a method of the BinaryTree class. The internal method must check for the existence of the left and the right children before making the recursive call to preorder."
   ]
  },
  {
   "cell_type": "code",
   "execution_count": 4,
   "metadata": {},
   "outputs": [],
   "source": [
    "def preorder(self):\n",
    "    print(self.key)\n",
    "    if self.leftChild:\n",
    "        self.leftChild.preorder()\n",
    "    if self.rightChild:\n",
    "        self.rightChild.preorder()"
   ]
  },
  {
   "cell_type": "markdown",
   "metadata": {},
   "source": [
    "### Postorder Tree Traversal method"
   ]
  },
  {
   "cell_type": "code",
   "execution_count": 6,
   "metadata": {},
   "outputs": [],
   "source": [
    "def postorder(tree):\n",
    "    if tree != None:\n",
    "        postorder(tree.getLeftChild())\n",
    "        postorder(tree.getRightChild())\n",
    "        print(tree.getRootVal())"
   ]
  },
  {
   "cell_type": "markdown",
   "metadata": {},
   "source": [
    "### Inorder Tree Traversal"
   ]
  },
  {
   "cell_type": "code",
   "execution_count": 7,
   "metadata": {},
   "outputs": [],
   "source": [
    "def inorder(tree):\n",
    "  if tree != None:\n",
    "      inorder(tree.getLeftChild())\n",
    "      print(tree.getRootVal())\n",
    "      inorder(tree.getRightChild())"
   ]
  }
 ],
 "metadata": {
  "kernelspec": {
   "display_name": "Python 3",
   "language": "python",
   "name": "python3"
  },
  "language_info": {
   "codemirror_mode": {
    "name": "ipython",
    "version": 3
   },
   "file_extension": ".py",
   "mimetype": "text/x-python",
   "name": "python",
   "nbconvert_exporter": "python",
   "pygments_lexer": "ipython3",
   "version": "3.7.4"
  }
 },
 "nbformat": 4,
 "nbformat_minor": 2
}
