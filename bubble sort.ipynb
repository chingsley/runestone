{
 "cells": [
  {
   "cell_type": "code",
   "execution_count": 1,
   "metadata": {},
   "outputs": [
    {
     "name": "stdout",
     "output_type": "stream",
     "text": [
      "[54, 26, 93, 17, 77, 31, 44, 55, 20]\n",
      "[17, 20, 26, 31, 44, 54, 55, 77, 93]\n"
     ]
    }
   ],
   "source": [
    "def bubble_sort(input_arr):\n",
    "    arr = [n for n in input_arr]\n",
    "    for passnum in range(len(arr)-1, 0, -1):\n",
    "        for i in range(passnum):\n",
    "            if arr[i] > arr[i+1]:\n",
    "                arr[i],arr[i+1] = arr[i+1],arr[i]\n",
    "    return arr\n",
    "\n",
    "test_arr = [54, 26, 93, 17, 77, 31, 44, 55, 20]\n",
    "result = bubble_sort(test_arr)\n",
    "\n",
    "print(test_arr)\n",
    "print(result)"
   ]
  },
  {
   "cell_type": "markdown",
   "metadata": {},
   "source": [
    "### Implementing Short Bubble"
   ]
  },
  {
   "cell_type": "code",
   "execution_count": 32,
   "metadata": {},
   "outputs": [],
   "source": [
    "def short_bubble_sort(input_arr):\n",
    "    arr = [n for n in input_arr]\n",
    "    passnum = len(arr) - 1\n",
    "    exchange = True\n",
    "    no_of_passes = 0\n",
    "    while passnum > 0 and exchange:\n",
    "        exchange = False\n",
    "        no_of_passes += 1\n",
    "        for i in range(passnum):\n",
    "            if arr[i] > arr[i+1]:\n",
    "                arr[i], arr[i+1] = arr[i+1], arr[i]\n",
    "                exchange = True\n",
    "        passnum = passnum - 1\n",
    "    return (arr, no_of_passes)"
   ]
  },
  {
   "cell_type": "code",
   "execution_count": 35,
   "metadata": {},
   "outputs": [
    {
     "name": "stdout",
     "output_type": "stream",
     "text": [
      "[20, 17, 26, 31, 44, 54, 55, 77, 93]\n",
      "([17, 20, 26, 31, 44, 54, 55, 77, 93], 2)\n"
     ]
    }
   ],
   "source": [
    "test_arr = [20, 17, 26, 31, 44, 54, 55, 77, 93]\n",
    "result = short_bubble_sort(test_arr)\n",
    "\n",
    "print(test_arr)\n",
    "print(result)"
   ]
  }
 ],
 "metadata": {
  "kernelspec": {
   "display_name": "Python 3",
   "language": "python",
   "name": "python3"
  },
  "language_info": {
   "codemirror_mode": {
    "name": "ipython",
    "version": 3
   },
   "file_extension": ".py",
   "mimetype": "text/x-python",
   "name": "python",
   "nbconvert_exporter": "python",
   "pygments_lexer": "ipython3",
   "version": "3.7.4"
  }
 },
 "nbformat": 4,
 "nbformat_minor": 2
}
